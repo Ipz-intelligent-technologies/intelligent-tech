{
 "cells": [
  {
   "cell_type": "code",
   "execution_count": 187,
   "metadata": {},
   "outputs": [],
   "source": [
    "from ipynb.fs.full.linear_regression import X_train, X_test, y_train, y_test"
   ]
  },
  {
   "cell_type": "code",
   "execution_count": 188,
   "metadata": {},
   "outputs": [],
   "source": [
    "import tensorflow as tf\n",
    "from tensorflow import keras"
   ]
  },
  {
   "cell_type": "code",
   "execution_count": 189,
   "metadata": {},
   "outputs": [],
   "source": [
    "model = keras.Sequential()\n",
    "\n",
    "model.add(keras.layers.Flatten(input_shape=(6, )))\n",
    "model.add(keras.layers.Dense(64, activation='relu', name='dense_1'))\n",
    "model.add(keras.layers.Dense(8, activation='relu', name='dense_2'))\n",
    "model.add(keras.layers.Dense(1, activation='linear', name='dense_output'))"
   ]
  },
  {
   "cell_type": "code",
   "execution_count": 190,
   "metadata": {},
   "outputs": [
    {
     "name": "stdout",
     "output_type": "stream",
     "text": [
      "Model: \"sequential_16\"\n",
      "_________________________________________________________________\n",
      " Layer (type)                Output Shape              Param #   \n",
      "=================================================================\n",
      " flatten_17 (Flatten)        (None, 6)                 0         \n",
      "                                                                 \n",
      " dense_1 (Dense)             (None, 64)                448       \n",
      "                                                                 \n",
      " dense_2 (Dense)             (None, 8)                 520       \n",
      "                                                                 \n",
      " dense_output (Dense)        (None, 1)                 9         \n",
      "                                                                 \n",
      "=================================================================\n",
      "Total params: 977\n",
      "Trainable params: 977\n",
      "Non-trainable params: 0\n",
      "_________________________________________________________________\n"
     ]
    }
   ],
   "source": [
    "model.summary()"
   ]
  },
  {
   "cell_type": "code",
   "execution_count": 191,
   "metadata": {},
   "outputs": [],
   "source": [
    "model.compile(optimizer='adam', loss='mse', metrics=['mape'])"
   ]
  },
  {
   "cell_type": "code",
   "execution_count": 197,
   "metadata": {},
   "outputs": [
    {
     "name": "stdout",
     "output_type": "stream",
     "text": [
      "Epoch 1/20\n",
      "14/30 [=============>................] - ETA: 0s - loss: 33763354624.0000 - mape: 95.1947"
     ]
    },
    {
     "name": "stderr",
     "output_type": "stream",
     "text": [
      "/home/strafe/.local/lib/python3.10/site-packages/keras/engine/data_adapter.py:1699: FutureWarning: The behavior of `series[i:j]` with an integer-dtype index is deprecated. In a future version, this will be treated as *label-based* indexing, consistent with e.g. `series[i]` lookups. To retain the old behavior, use `series.iloc[i:j]`. To get the future behavior, use `series.loc[i:j]`.\n",
      "  return t[start:end]\n"
     ]
    },
    {
     "name": "stdout",
     "output_type": "stream",
     "text": [
      "30/30 [==============================] - 0s 8ms/step - loss: 35272019968.0000 - mape: 94.5944 - val_loss: 33771835392.0000 - val_mape: 92.4558\n",
      "Epoch 2/20\n",
      "30/30 [==============================] - 0s 4ms/step - loss: 32920745984.0000 - mape: 90.6664 - val_loss: 30971238400.0000 - val_mape: 87.5074\n",
      "Epoch 3/20\n",
      "30/30 [==============================] - 0s 4ms/step - loss: 29818503168.0000 - mape: 85.2587 - val_loss: 27438333952.0000 - val_mape: 80.9027\n",
      "Epoch 4/20\n",
      "30/30 [==============================] - 0s 3ms/step - loss: 26119718912.0000 - mape: 78.5569 - val_loss: 23589328896.0000 - val_mape: 73.2112\n",
      "Epoch 5/20\n",
      "30/30 [==============================] - 0s 4ms/step - loss: 22376710144.0000 - mape: 70.5352 - val_loss: 19682273280.0000 - val_mape: 64.5998\n",
      "Epoch 6/20\n",
      "30/30 [==============================] - 0s 4ms/step - loss: 19129540608.0000 - mape: 62.2989 - val_loss: 16128464896.0000 - val_mape: 55.9938\n",
      "Epoch 7/20\n",
      "30/30 [==============================] - 0s 4ms/step - loss: 16651745280.0000 - mape: 54.3786 - val_loss: 13619150848.0000 - val_mape: 49.1838\n",
      "Epoch 8/20\n",
      "30/30 [==============================] - 0s 4ms/step - loss: 14993359872.0000 - mape: 48.5775 - val_loss: 12090314752.0000 - val_mape: 44.7098\n",
      "Epoch 9/20\n",
      "30/30 [==============================] - 0s 5ms/step - loss: 14106327040.0000 - mape: 44.5804 - val_loss: 11017866240.0000 - val_mape: 41.2079\n",
      "Epoch 10/20\n",
      "30/30 [==============================] - 0s 5ms/step - loss: 13429139456.0000 - mape: 41.9994 - val_loss: 10503824384.0000 - val_mape: 39.4355\n",
      "Epoch 11/20\n",
      "30/30 [==============================] - 0s 5ms/step - loss: 13079732224.0000 - mape: 40.4767 - val_loss: 10102831104.0000 - val_mape: 37.9961\n",
      "Epoch 12/20\n",
      "30/30 [==============================] - 0s 5ms/step - loss: 12780803072.0000 - mape: 38.9738 - val_loss: 9724248064.0000 - val_mape: 36.6458\n",
      "Epoch 13/20\n",
      "30/30 [==============================] - 0s 4ms/step - loss: 12565766144.0000 - mape: 37.3299 - val_loss: 9318207488.0000 - val_mape: 35.1332\n",
      "Epoch 14/20\n",
      "30/30 [==============================] - 0s 5ms/step - loss: 12318492672.0000 - mape: 36.1087 - val_loss: 9127074816.0000 - val_mape: 34.4793\n",
      "Epoch 15/20\n",
      "30/30 [==============================] - 0s 4ms/step - loss: 12196575232.0000 - mape: 35.3440 - val_loss: 8954263552.0000 - val_mape: 33.8735\n",
      "Epoch 16/20\n",
      "30/30 [==============================] - 0s 4ms/step - loss: 12003984384.0000 - mape: 34.8524 - val_loss: 8831623168.0000 - val_mape: 33.4827\n",
      "Epoch 17/20\n",
      "30/30 [==============================] - 0s 4ms/step - loss: 11812923392.0000 - mape: 34.4266 - val_loss: 8693107712.0000 - val_mape: 33.0052\n",
      "Epoch 18/20\n",
      "30/30 [==============================] - 0s 5ms/step - loss: 11624087552.0000 - mape: 34.0656 - val_loss: 8548215296.0000 - val_mape: 32.4797\n",
      "Epoch 19/20\n",
      "30/30 [==============================] - 0s 5ms/step - loss: 11441851392.0000 - mape: 33.7992 - val_loss: 8512877568.0000 - val_mape: 32.5246\n",
      "Epoch 20/20\n",
      "30/30 [==============================] - 0s 4ms/step - loss: 11282484224.0000 - mape: 33.5470 - val_loss: 8406313984.0000 - val_mape: 32.1908\n"
     ]
    }
   ],
   "source": [
    "history = model.fit(X_train, y_train, epochs=20, verbose=1, validation_split=0.2, batch_size=32)"
   ]
  },
  {
   "cell_type": "code",
   "execution_count": 198,
   "metadata": {},
   "outputs": [
    {
     "name": "stdout",
     "output_type": "stream",
     "text": [
      "10/10 [==============================] - 0s 2ms/step - loss: 16867165184.0000 - mape: 32.8764\n"
     ]
    },
    {
     "data": {
      "text/plain": [
       "[16867165184.0, 32.87641525268555]"
      ]
     },
     "execution_count": 198,
     "metadata": {},
     "output_type": "execute_result"
    }
   ],
   "source": [
    "model.evaluate(X_test, y_test)"
   ]
  },
  {
   "cell_type": "code",
   "execution_count": 199,
   "metadata": {},
   "outputs": [],
   "source": [
    "import numpy as np"
   ]
  },
  {
   "cell_type": "code",
   "execution_count": 200,
   "metadata": {},
   "outputs": [
    {
     "name": "stdout",
     "output_type": "stream",
     "text": [
      "1/1 [==============================] - 0s 26ms/step\n"
     ]
    }
   ],
   "source": [
    "test_value = np.ones(6, dtype=float)\n",
    "test_value = test_value.reshape(1, 6)\n",
    "y_pred = model.predict(test_value)"
   ]
  },
  {
   "cell_type": "code",
   "execution_count": 201,
   "metadata": {},
   "outputs": [
    {
     "data": {
      "text/plain": [
       "array([[99.86134]], dtype=float32)"
      ]
     },
     "execution_count": 201,
     "metadata": {},
     "output_type": "execute_result"
    }
   ],
   "source": [
    "y_pred"
   ]
  }
 ],
 "metadata": {
  "kernelspec": {
   "display_name": "Python 3.10.6 64-bit",
   "language": "python",
   "name": "python3"
  },
  "language_info": {
   "codemirror_mode": {
    "name": "ipython",
    "version": 3
   },
   "file_extension": ".py",
   "mimetype": "text/x-python",
   "name": "python",
   "nbconvert_exporter": "python",
   "pygments_lexer": "ipython3",
   "version": "3.10.6"
  },
  "orig_nbformat": 4,
  "vscode": {
   "interpreter": {
    "hash": "916dbcbb3f70747c44a77c7bcd40155683ae19c65e1c03b4aa3499c5328201f1"
   }
  }
 },
 "nbformat": 4,
 "nbformat_minor": 2
}
