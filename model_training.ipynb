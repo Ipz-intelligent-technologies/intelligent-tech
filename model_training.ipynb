{
 "cells": [
  {
   "cell_type": "code",
   "execution_count": 160,
   "metadata": {},
   "outputs": [],
   "source": [
    "from ipynb.fs.full.linear_regression import X_train, X_test, y_train, y_test"
   ]
  },
  {
   "cell_type": "code",
   "execution_count": 161,
   "metadata": {},
   "outputs": [],
   "source": [
    "import tensorflow as tf\n",
    "from tensorflow import keras"
   ]
  },
  {
   "cell_type": "code",
   "execution_count": 162,
   "metadata": {},
   "outputs": [],
   "source": [
    "model = keras.Sequential()\n",
    "\n",
    "model.add(keras.layers.Flatten(input_shape=(6, )))\n",
    "model.add(keras.layers.Dense(64, activation='relu', name='dense_1'))\n",
    "model.add(keras.layers.Dense(8, activation='relu', name='dense_2'))\n",
    "model.add(keras.layers.Dense(1, activation='linear', name='dense_output'))"
   ]
  },
  {
   "cell_type": "code",
   "execution_count": 163,
   "metadata": {},
   "outputs": [
    {
     "name": "stdout",
     "output_type": "stream",
     "text": [
      "Model: \"sequential_15\"\n",
      "_________________________________________________________________\n",
      " Layer (type)                Output Shape              Param #   \n",
      "=================================================================\n",
      " flatten_16 (Flatten)        (None, 6)                 0         \n",
      "                                                                 \n",
      " dense_1 (Dense)             (None, 64)                448       \n",
      "                                                                 \n",
      " dense_2 (Dense)             (None, 8)                 520       \n",
      "                                                                 \n",
      " dense_output (Dense)        (None, 1)                 9         \n",
      "                                                                 \n",
      "=================================================================\n",
      "Total params: 977\n",
      "Trainable params: 977\n",
      "Non-trainable params: 0\n",
      "_________________________________________________________________\n"
     ]
    }
   ],
   "source": [
    "model.summary()"
   ]
  },
  {
   "cell_type": "code",
   "execution_count": 164,
   "metadata": {},
   "outputs": [],
   "source": [
    "model.compile(optimizer='adam', loss='mse', metrics=['mape'])"
   ]
  },
  {
   "cell_type": "code",
   "execution_count": 181,
   "metadata": {},
   "outputs": [
    {
     "name": "stdout",
     "output_type": "stream",
     "text": [
      "Epoch 1/20\n",
      "1/8 [==>...........................] - ETA: 0s - loss: 4592005120.0000 - mape: 27.2213"
     ]
    },
    {
     "name": "stderr",
     "output_type": "stream",
     "text": [
      "/home/strafe/.local/lib/python3.10/site-packages/keras/engine/data_adapter.py:1699: FutureWarning: The behavior of `series[i:j]` with an integer-dtype index is deprecated. In a future version, this will be treated as *label-based* indexing, consistent with e.g. `series[i]` lookups. To retain the old behavior, use `series.iloc[i:j]`. To get the future behavior, use `series.loc[i:j]`.\n",
      "  return t[start:end]\n"
     ]
    },
    {
     "name": "stdout",
     "output_type": "stream",
     "text": [
      "8/8 [==============================] - 0s 21ms/step - loss: 7799448576.0000 - mape: 27.2303 - val_loss: 6504607232.0000 - val_mape: 26.5461\n",
      "Epoch 2/20\n",
      "8/8 [==============================] - 0s 9ms/step - loss: 7738690048.0000 - mape: 27.0100 - val_loss: 6456870912.0000 - val_mape: 26.3622\n",
      "Epoch 3/20\n",
      "8/8 [==============================] - 0s 11ms/step - loss: 7679205376.0000 - mape: 26.8625 - val_loss: 6421487104.0000 - val_mape: 26.2529\n",
      "Epoch 4/20\n",
      "8/8 [==============================] - 0s 8ms/step - loss: 7618041856.0000 - mape: 26.7391 - val_loss: 6386188800.0000 - val_mape: 26.1440\n",
      "Epoch 5/20\n",
      "8/8 [==============================] - 0s 8ms/step - loss: 7563410432.0000 - mape: 26.6222 - val_loss: 6354286592.0000 - val_mape: 26.0522\n",
      "Epoch 6/20\n",
      "8/8 [==============================] - 0s 9ms/step - loss: 7495720960.0000 - mape: 26.5041 - val_loss: 6323505664.0000 - val_mape: 25.9608\n",
      "Epoch 7/20\n",
      "8/8 [==============================] - 0s 10ms/step - loss: 7443433984.0000 - mape: 26.3866 - val_loss: 6290333696.0000 - val_mape: 25.8652\n",
      "Epoch 8/20\n",
      "8/8 [==============================] - 0s 9ms/step - loss: 7390337024.0000 - mape: 26.3084 - val_loss: 6262728192.0000 - val_mape: 25.8004\n",
      "Epoch 9/20\n",
      "8/8 [==============================] - 0s 9ms/step - loss: 7335002624.0000 - mape: 26.2407 - val_loss: 6236989440.0000 - val_mape: 25.7427\n",
      "Epoch 10/20\n",
      "8/8 [==============================] - 0s 7ms/step - loss: 7263285248.0000 - mape: 26.1467 - val_loss: 6207695360.0000 - val_mape: 25.6675\n",
      "Epoch 11/20\n",
      "8/8 [==============================] - 0s 8ms/step - loss: 7197027328.0000 - mape: 26.0260 - val_loss: 6173225472.0000 - val_mape: 25.5625\n",
      "Epoch 12/20\n",
      "8/8 [==============================] - 0s 9ms/step - loss: 7141452800.0000 - mape: 25.9238 - val_loss: 6143752192.0000 - val_mape: 25.4871\n",
      "Epoch 13/20\n",
      "8/8 [==============================] - 0s 12ms/step - loss: 7072492544.0000 - mape: 25.8315 - val_loss: 6116216320.0000 - val_mape: 25.4168\n",
      "Epoch 14/20\n",
      "8/8 [==============================] - 0s 10ms/step - loss: 7008727040.0000 - mape: 25.7360 - val_loss: 6083642368.0000 - val_mape: 25.3222\n",
      "Epoch 15/20\n",
      "8/8 [==============================] - 0s 9ms/step - loss: 6952860672.0000 - mape: 25.6374 - val_loss: 6055607296.0000 - val_mape: 25.2514\n",
      "Epoch 16/20\n",
      "8/8 [==============================] - 0s 8ms/step - loss: 6885451264.0000 - mape: 25.5349 - val_loss: 6021330944.0000 - val_mape: 25.1448\n",
      "Epoch 17/20\n",
      "8/8 [==============================] - 0s 7ms/step - loss: 6829426176.0000 - mape: 25.4311 - val_loss: 5992930304.0000 - val_mape: 25.0723\n",
      "Epoch 18/20\n",
      "8/8 [==============================] - 0s 8ms/step - loss: 6762345984.0000 - mape: 25.3218 - val_loss: 5959821312.0000 - val_mape: 24.9705\n",
      "Epoch 19/20\n",
      "8/8 [==============================] - 0s 12ms/step - loss: 6698625536.0000 - mape: 25.2076 - val_loss: 5928269312.0000 - val_mape: 24.8758\n",
      "Epoch 20/20\n",
      "8/8 [==============================] - 0s 11ms/step - loss: 6641266176.0000 - mape: 25.1338 - val_loss: 5904349184.0000 - val_mape: 24.8376\n"
     ]
    }
   ],
   "source": [
    "history = model.fit(X_train, y_train, epochs=20, verbose=1, validation_split=0.2, batch_size=128)"
   ]
  },
  {
   "cell_type": "code",
   "execution_count": 182,
   "metadata": {},
   "outputs": [
    {
     "name": "stdout",
     "output_type": "stream",
     "text": [
      "10/10 [==============================] - 0s 2ms/step - loss: 9670390784.0000 - mape: 23.7938\n"
     ]
    },
    {
     "data": {
      "text/plain": [
       "[9670390784.0, 23.79381561279297]"
      ]
     },
     "execution_count": 182,
     "metadata": {},
     "output_type": "execute_result"
    }
   ],
   "source": [
    "model.evaluate(X_test, y_test)"
   ]
  },
  {
   "cell_type": "code",
   "execution_count": 183,
   "metadata": {},
   "outputs": [],
   "source": [
    "import numpy as np"
   ]
  },
  {
   "cell_type": "code",
   "execution_count": 184,
   "metadata": {},
   "outputs": [
    {
     "name": "stdout",
     "output_type": "stream",
     "text": [
      "1/1 [==============================] - 0s 37ms/step\n"
     ]
    }
   ],
   "source": [
    "test_value = np.ones(6, dtype=float)\n",
    "test_value = test_value.reshape(1, 6)\n",
    "y_pred = model.predict(test_value)"
   ]
  },
  {
   "cell_type": "code",
   "execution_count": 185,
   "metadata": {},
   "outputs": [
    {
     "data": {
      "text/plain": [
       "array([[181.46603]], dtype=float32)"
      ]
     },
     "execution_count": 185,
     "metadata": {},
     "output_type": "execute_result"
    }
   ],
   "source": [
    "y_pred"
   ]
  }
 ],
 "metadata": {
  "kernelspec": {
   "display_name": "Python 3.10.6 64-bit",
   "language": "python",
   "name": "python3"
  },
  "language_info": {
   "codemirror_mode": {
    "name": "ipython",
    "version": 3
   },
   "file_extension": ".py",
   "mimetype": "text/x-python",
   "name": "python",
   "nbconvert_exporter": "python",
   "pygments_lexer": "ipython3",
   "version": "3.10.6"
  },
  "orig_nbformat": 4,
  "vscode": {
   "interpreter": {
    "hash": "916dbcbb3f70747c44a77c7bcd40155683ae19c65e1c03b4aa3499c5328201f1"
   }
  }
 },
 "nbformat": 4,
 "nbformat_minor": 2
}
